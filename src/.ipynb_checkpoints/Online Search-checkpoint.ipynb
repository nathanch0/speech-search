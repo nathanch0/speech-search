{
 "cells": [
  {
   "cell_type": "code",
   "execution_count": 1,
   "metadata": {
    "collapsed": true
   },
   "outputs": [],
   "source": [
    "from selenium import webdriver\n",
    "from selenium.webdriver.common.keys import Keys\n",
    "import selenium"
   ]
  },
  {
   "cell_type": "code",
   "execution_count": 2,
   "metadata": {
    "collapsed": true
   },
   "outputs": [],
   "source": [
    "def search():\n",
    "    q = input(\"Enter the search query: \")\n",
    "    q = q.replace(' ', '')\n",
    "    browser = webdriver.Firefox()\n",
    "    body = browser.find_element_by_tag_name(\"body\")\n",
    "    body.send_keys(Keys.CONTROL + 't')\n",
    "    counter = 0\n",
    "    for i in range(0,20):\n",
    "        browser.get(\"https://www.google.com/search?q=\" + q + \"&start=\" + str(counter))\n",
    "        body = browser.find_element_by_tag_name(\"body\")\n",
    "        if \"thetaranights\" in body.text:\n",
    "            browser.find_element_by_xpath('//a[starts-with(@href,\"http://www.thetaranights.com\")]').click()\n",
    "            break\n",
    "        counter += 10"
   ]
  },
  {
   "cell_type": "code",
   "execution_count": null,
   "metadata": {},
   "outputs": [],
   "source": []
  },
  {
   "cell_type": "code",
   "execution_count": null,
   "metadata": {
    "collapsed": true
   },
   "outputs": [],
   "source": []
  }
 ],
 "metadata": {
  "kernelspec": {
   "display_name": "Python 3",
   "language": "python",
   "name": "python3"
  },
  "language_info": {
   "codemirror_mode": {
    "name": "ipython",
    "version": 3
   },
   "file_extension": ".py",
   "mimetype": "text/x-python",
   "name": "python",
   "nbconvert_exporter": "python",
   "pygments_lexer": "ipython3",
   "version": "3.6.1"
  }
 },
 "nbformat": 4,
 "nbformat_minor": 2
}
